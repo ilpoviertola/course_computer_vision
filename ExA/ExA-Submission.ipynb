{
 "cells": [
  {
   "cell_type": "markdown",
   "source": [
    "# Computer Vision PS (WS21/22)\n",
    "\n",
    "## Exercise sheet A (ExA)\n",
    "\n",
    "**Group members**: Ilpo Viertola\n",
    "\n",
    "**Total (possible) points**: 8 (+1 bonus point)\n",
    "\n",
    "---"
   ],
   "metadata": {}
  },
  {
   "cell_type": "code",
   "execution_count": 52,
   "source": [
    "import torch\n",
    "import time\n",
    "import math\n",
    "import numpy as np"
   ],
   "outputs": [],
   "metadata": {}
  },
  {
   "cell_type": "markdown",
   "source": [
    "## ExA.1 (2 points)"
   ],
   "metadata": {}
  },
  {
   "cell_type": "markdown",
   "source": [
    "In this exercise, you have to create a 2D tensor (i.e., a matrix) $\\mathbf{A}$ of size $20 \\times 20$ and fill all entries $a_{ij}, 1 \\leq i,j\\leq 20$ with values drawn from a Gaussian distribution with mean 3 and a standard deviation of 1.5, i.e., $\\mathcal{N}(3,1.5)$. Leverage PyTorch functionality as much as possible."
   ],
   "metadata": {}
  },
  {
   "cell_type": "code",
   "execution_count": 2,
   "source": [
    "use_gpu = True\n",
    "if torch.cuda.is_available() and use_gpu: \n",
    "    device = torch.device('cuda')\n",
    "else:\n",
    "    device = torch.device('cpu')\n",
    "\n",
    "A = torch.empty(20,20).normal_(3,1.5)"
   ],
   "outputs": [],
   "metadata": {}
  },
  {
   "cell_type": "code",
   "execution_count": 3,
   "source": [
    "#\n",
    "# Testing code \n",
    "#\n",
    "print('Mean of tensor:      {:.3f}'.format(A.mean()))\n",
    "print('Std. dev. of tensor: {:.3f}'.format(A.std()))"
   ],
   "outputs": [
    {
     "output_type": "stream",
     "name": "stdout",
     "text": [
      "Mean of tensor:      3.143\n",
      "Std. dev. of tensor: 1.492\n"
     ]
    }
   ],
   "metadata": {}
  },
  {
   "cell_type": "markdown",
   "source": [
    "## ExA.2 (4 points)\n",
    "\n",
    "In this exercise, we first create a 2D `numpy.ndarray` named `inp` (size $2 \\times 8$) of type `np.float32`. We interpret `inp` as each row representing a 1D signal of length 8."
   ],
   "metadata": {}
  },
  {
   "cell_type": "code",
   "execution_count": 136,
   "source": [
    "inp = np.array([[1,2,3,4,5,6,7,8],\n",
    "               [10,11,12,13,14,15,16,17]]).astype(np.float32)"
   ],
   "outputs": [],
   "metadata": {}
  },
  {
   "cell_type": "markdown",
   "source": [
    "Your task is to *decompose* the two 1D signals into **sliding windows** and store the results in a tensor.\n",
    "\n",
    "In particular, we want to slide a window of length $L$ over each signal, where the window is moved forward by $S>=1$ steps a time. In this exercise, set $L=3$ and $S=2$. \n",
    "\n",
    "To give a concrete example of such a **sliding window decomposition**, take the first 1D signal `[1,2,3,4,5,6,7,8]`. Under the settings, i.e., $L=3$ and $S=1$, the result would be `[1,2,3]`, `[3,4,5]`, `[5,6,7]`. In other words, we obtain three sliding windows, each of length 3. We could now do this for the second signal as well. As both 1D signals are of equal length (here 8), the overall result (for the two 1D signals) can be stored in a tensor of size `(2,3,3)`. \n",
    "\n",
    "*Obviously, your code should produce such a tensor for the given input `inp`, but it should also be possible to handle more than two signals and not just be limited to signals of length 8.*"
   ],
   "metadata": {}
  },
  {
   "cell_type": "markdown",
   "source": [
    "**Implementation hints**:\n",
    "\n",
    "One (quite efficient way) to implement this is to use the method `sliding_window_view` from `numpy.lib.stride_tricks` (this requires `numpy` version $\\geq$ 1.20.0); see documentation [here](https://numpy.org/devdocs/reference/generated/numpy.lib.stride_tricks.sliding_window_view.html).\n",
    "\n",
    "Once you have correctly called `numpy.lib.stride_tricks.sliding_window_view`, the result will again be a `numpy.ndarray`, so you have to convert it into a PyTorch tensor. \n",
    "\n",
    "To take the step size $S$ into account, you can simply use the slicing syntax of PyTorch tensors. Any singleton dimension can eventually be *squeezed* using `torch.Tensor.squeeze`.\n",
    "\n"
   ],
   "metadata": {}
  },
  {
   "cell_type": "code",
   "execution_count": 140,
   "source": [
    "from numpy.lib.stride_tricks import sliding_window_view\n",
    "\n",
    "def slice_signal(x, win_len, step):\n",
    "    ret = []\n",
    "    for i in range(0, len(x), step):\n",
    "        try:\n",
    "            tmp = x[i:int(i + win_len)]\n",
    "            if len(tmp) == win_len:\n",
    "                ret.append(list(tmp))\n",
    "        except IndexError:\n",
    "            break\n",
    "    return ret\n",
    "\n",
    "def win(X, L=3, S=2):\n",
    "    \"\"\"\n",
    "    Implementation of the sliding window decomposition.\n",
    "    \n",
    "    Arguments:\n",
    "        X: numpy.ndarray\n",
    "           Input numpy.ndarray of size (N,D), i.e., N 1D signals of length D\n",
    "\n",
    "        L: int            \n",
    "           Length of the sliding window (e.g., 3)\n",
    "        \n",
    "        S: int\n",
    "           Step size to move the sliding window forward (e.g., 2)\n",
    "            \n",
    "    Returns:\n",
    "        torch.Tensor\n",
    "            Output tensor of size (N,W,width), i.e., N 1D signals, decomposed\n",
    "            into W windows of length L\n",
    "        \n",
    "        \n",
    "    \"\"\"\n",
    "    \n",
    "    ret = sliding_window_view(X, L, axis=1)\n",
    "    ret = ret[:,0:-1:S,:]\n",
    "    return torch.from_numpy(ret)"
   ],
   "outputs": [],
   "metadata": {}
  },
  {
   "cell_type": "code",
   "execution_count": 141,
   "source": [
    "#\n",
    "# Testing code\n",
    "#\n",
    "ret = win(inp,3,2)\n",
    "\n",
    "print(ret.shape)\n",
    "print(ret)"
   ],
   "outputs": [
    {
     "output_type": "stream",
     "name": "stdout",
     "text": [
      "torch.Size([2, 3, 3])\n",
      "tensor([[[ 1.,  2.,  3.],\n",
      "         [ 3.,  4.,  5.],\n",
      "         [ 5.,  6.,  7.]],\n",
      "\n",
      "        [[10., 11., 12.],\n",
      "         [12., 13., 14.],\n",
      "         [14., 15., 16.]]])\n"
     ]
    }
   ],
   "metadata": {}
  },
  {
   "cell_type": "markdown",
   "source": [
    "While you do not have to follow the **implementation hints** above, you will get a bonus point if your code runs efficiently. E.g., you can time your code via"
   ],
   "metadata": {}
  },
  {
   "cell_type": "code",
   "execution_count": 142,
   "source": [
    "inp_large = torch.rand(250,1000)\n",
    "\n",
    "t1 = time.time()\n",
    "win(inp_large, 3, 2)\n",
    "print(\"Handling of the large input took: \", (time.time() - t1) * 10**6, \n",
    "      \"microseconds\")\n",
    "\n",
    "%timeit win(inp_large, 3, 2)"
   ],
   "outputs": [
    {
     "output_type": "stream",
     "name": "stdout",
     "text": [
      "Handling of the large input took:  207.9010009765625 microseconds\n",
      "35.1 µs ± 467 ns per loop (mean ± std. dev. of 7 runs, 10000 loops each)\n"
     ]
    }
   ],
   "metadata": {}
  },
  {
   "cell_type": "markdown",
   "source": [
    "If implemented in a reasonably efficient manner, this should run in approx. 700-900 $\\mu$s (obviously depending on your system)."
   ],
   "metadata": {}
  },
  {
   "cell_type": "markdown",
   "source": [
    "## ExA.3 (1 point)"
   ],
   "metadata": {}
  },
  {
   "cell_type": "markdown",
   "source": [
    "Below, we initialize a tensor of size `(3,4,6,7,10)` with elements drawn from a standard Gaussian distribution, i.e., $\\mathcal{N}(0,1)$. Compute the Frobenius norm over all $7 \\times 10$ matrices in the last two dimensions. This should give a tensor of size `(3,4,6)`. With the testing code below, you can verify if your solution is correct."
   ],
   "metadata": {}
  },
  {
   "cell_type": "code",
   "execution_count": 41,
   "source": [
    "torch.manual_seed(1234)\n",
    "R = torch.randn(3,4,6,7,10)"
   ],
   "outputs": [],
   "metadata": {}
  },
  {
   "cell_type": "code",
   "execution_count": 50,
   "source": [
    "#\n",
    "# YOUR CODE GOES HERE\n",
    "# \n",
    "normR = R.norm(dim=[3,4])"
   ],
   "outputs": [
    {
     "output_type": "execute_result",
     "data": {
      "text/plain": [
       "torch.Size([3, 4, 6])"
      ]
     },
     "metadata": {},
     "execution_count": 50
    }
   ],
   "metadata": {}
  },
  {
   "cell_type": "code",
   "execution_count": 51,
   "source": [
    "#\n",
    "# Testing code\n",
    "#\n",
    "testR = torch.from_numpy(np.load('/Users/ilpoviertola/Repositories/computer-vision/teaching/WS2122/CV/PS/ExA/testR.npy'))\n",
    "print('Diff: {:.3f}'.format(torch.linalg.norm(testR-normR)))"
   ],
   "outputs": [
    {
     "output_type": "stream",
     "name": "stdout",
     "text": [
      "Diff: 0.000\n"
     ]
    }
   ],
   "metadata": {}
  },
  {
   "cell_type": "markdown",
   "source": [
    "## ExA.4 (1 point)\n",
    "\n",
    "Implement the following two functions:\n",
    "\n",
    "- $f_0: \\mathbb{R} \\to \\mathbb{R}$, $x \\mapsto \\max\\{0,x\\}$ \n",
    "- $f_1: \\mathbb{R} \\to \\mathbb{R}$, $x \\mapsto \\frac{1}{1+e^{-x}}$ \n",
    "\n",
    "\n",
    "and plot the function graph for 100 inputs, linearly spaced in $[-5,5]$. To generate such linearly spaced inputs, you can use `torch.linspace`.\n"
   ],
   "metadata": {}
  },
  {
   "cell_type": "code",
   "execution_count": 80,
   "source": [
    "def f0(inp):\n",
    "    return max(0, inp)"
   ],
   "outputs": [],
   "metadata": {}
  },
  {
   "cell_type": "code",
   "execution_count": 124,
   "source": [
    "def f1(inp):\n",
    "    return 1 / (1 + math.e**(-1*inp))"
   ],
   "outputs": [],
   "metadata": {}
  },
  {
   "cell_type": "code",
   "execution_count": 125,
   "source": [
    "#\n",
    "# Plotting\n",
    "#\n",
    "%matplotlib inline\n",
    "import matplotlib.pyplot as plt\n",
    "\n",
    "inp = torch.linspace(-5, 5, 100)\n",
    "\n",
    "plt.plot(inp, f1(inp))\n",
    "plt.plot(inp, inp.apply_(f0))\n",
    "plt.xlim((-5,5))\n",
    "plt.ylim((0,5))"
   ],
   "outputs": [
    {
     "output_type": "execute_result",
     "data": {
      "text/plain": [
       "(0.0, 5.0)"
      ]
     },
     "metadata": {},
     "execution_count": 125
    },
    {
     "output_type": "display_data",
     "data": {
      "image/png": "[encoded data removed]",
      "text/plain": [
       "<Figure size 432x288 with 1 Axes>"
      ]
     },
     "metadata": {
      "needs_background": "light"
     }
    }
   ],
   "metadata": {}
  },
  {
   "cell_type": "code",
   "execution_count": null,
   "source": [],
   "outputs": [],
   "metadata": {}
  }
 ],
 "metadata": {
  "kernelspec": {
   "name": "python3",
   "display_name": "Python 3.8.8 64-bit ('computer_vision': conda)"
  },
  "language_info": {
   "codemirror_mode": {
    "name": "ipython",
    "version": 3
   },
   "file_extension": ".py",
   "mimetype": "text/x-python",
   "name": "python",
   "nbconvert_exporter": "python",
   "pygments_lexer": "ipython3",
   "version": "3.8.8"
  },
  "interpreter": {
   "hash": "0d070c5248e3221cf9c2fb1e27353d049f8f187629388ef1d12e94d46c8932eb"
  }
 },
 "nbformat": 4,
 "nbformat_minor": 5
}