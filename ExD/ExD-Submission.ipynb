{
 "cells": [
  {
   "cell_type": "markdown",
   "id": "298fa5de",
   "metadata": {},
   "source": [
    "# Computer Vision PS (WS21/22)\n",
    "\n",
    "\n",
    "# Exercise sheet D (ExD)\n",
    "\n",
    "**Group members**: Ilpo Viertola, Niklas Nurminen\n",
    "\n",
    "**Total (possible) points**: 14"
   ]
  },
  {
   "cell_type": "code",
   "execution_count": 4,
   "id": "2ee35839",
   "metadata": {},
   "outputs": [],
   "source": [
    "import torch\n",
    "import torch.nn as nn\n",
    "from torch import tensor\n",
    "from torch.autograd import grad\n",
    "import random\n",
    "import numpy as np"
   ]
  },
  {
   "cell_type": "markdown",
   "id": "b8e07ff9",
   "metadata": {},
   "source": [
    "## ExD.1 (3 points)"
   ]
  },
  {
   "cell_type": "markdown",
   "id": "9dc70635",
   "metadata": {},
   "source": [
    "Let us assume we have a point $\\mathbf{x} \\in \\mathbb{R}^3$ and 10 additional points $\\mathbf{y}_1,\\ldots,\\mathbf{y}_{10}$ with $\\forall i: \\mathbf{y}_i \\in \\mathbb{R}^3$.\n",
    "\n",
    "Now, say we want to compute (1) \n",
    "\n",
    "$$\\mathbf{o}_{1i} = \\mathbf{y}_i^2\\enspace,$$\n",
    "\n",
    "then (2)\n",
    "\n",
    "$$ o_{2i} = \\exp\\left( \\frac{-\\| \\mathbf{x} - \\mathbf{o}_{1i} \\|^2}{\\sigma} \\right)$$\n",
    "\n",
    "followed by (3)\n",
    "\n",
    "$$ o_{3} = \\sum_{i} o_{2i}$$\n",
    "\n",
    "and (4)\n",
    "\n",
    "$$ o_4 = \\frac{1}{1+\\exp{(-o_3)}}$$\n",
    "\n",
    "If we want to minimize $o_4$ over $\\mathbf{y}_1,\\ldots,\\mathbf{y}_{10}$ via gradient descent, we need gradients wrt. those points, i.e.,\n",
    "\n",
    "$$ \\frac{\\partial o_4}{\\partial \\mathbf{y}_i}\\enspace.$$"
   ]
  },
  {
   "cell_type": "code",
   "execution_count": 22,
   "id": "b259efa2",
   "metadata": {},
   "outputs": [],
   "source": [
    "# set random seed\n",
    "torch.manual_seed(123)\n",
    "\n",
    "y = torch.randn(10, 3, requires_grad=True)  # y_i's with respect to which we need gradients\n",
    "x = tensor([8.,3.,4.])                      # x"
   ]
  },
  {
   "cell_type": "markdown",
   "id": "db944972",
   "metadata": {},
   "source": [
    "Below is an implementation of (1)-(4) from above. Use `torch.autograd.grad` to compute gradients wrt. the $\\mathbf{y}_i$."
   ]
  },
  {
   "cell_type": "code",
   "execution_count": 23,
   "id": "448935e1",
   "metadata": {},
   "outputs": [],
   "source": [
    "o1 = torch.pow(y, 2.)\n",
    "o2 = torch.exp(-(x-o1).norm(dim=1, p=2)**2)\n",
    "o3 = o2.sum()\n",
    "o4 = torch.sigmoid(o3)"
   ]
  },
  {
   "cell_type": "markdown",
   "id": "a67f1684",
   "metadata": {},
   "source": [
    "Compute $\\frac{\\partial o_4}{\\partial \\mathbf{y}_i}$ and explain why we do not get any useful gradients."
   ]
  },
  {
   "cell_type": "code",
   "execution_count": 24,
   "id": "427e9469",
   "metadata": {},
   "outputs": [],
   "source": [
    "g = grad(o4, y)"
   ]
  },
  {
   "cell_type": "code",
   "execution_count": 34,
   "metadata": {},
   "outputs": [
    {
     "name": "stdout",
     "output_type": "stream",
     "text": [
      "tensor([[ 9.0438e-38, -1.7938e-38, -4.0320e-38],\n",
      "        [-1.2428e-34,  2.7708e-35,  6.4985e-35],\n",
      "        [-1.5273e-36, -9.4707e-37,  2.2886e-36],\n",
      "        [-4.0044e-23,  8.9564e-24, -1.4484e-23],\n",
      "        [ 2.9396e-30, -2.3059e-30,  5.9859e-30],\n",
      "        [-4.2240e-20, -8.0011e-21,  3.4357e-21],\n",
      "        [-5.2038e-13,  1.4091e-13, -1.0579e-13],\n",
      "        [-1.4158e-28, -1.3859e-29, -2.7912e-29],\n",
      "        [ 2.1651e-28,  3.0922e-29,  7.6932e-29],\n",
      "        [-5.7877e-39,  1.2163e-39, -1.5445e-39]])\n"
     ]
    }
   ],
   "source": [
    "print(g[0])"
   ]
  },
  {
   "cell_type": "markdown",
   "id": "c429347d",
   "metadata": {},
   "source": [
    "**Explanation**: The reason why we do not get any useful gradients is that the function we're trying to minimize is function of two variables ***x*** and ***y***. We need to compute the gradient in respect to both of the variables if we want to have any useful results."
   ]
  },
  {
   "cell_type": "markdown",
   "id": "100d85f2",
   "metadata": {},
   "source": [
    "## ExD.2 (5 points)"
   ]
  },
  {
   "cell_type": "markdown",
   "id": "6b5e6220",
   "metadata": {},
   "source": [
    "Say we have a linear map $f: \\mathbb{R}^{100} \\to \\mathbb{R}^{45}, \\ \\mathbf{x} \\mapsto \\mathbf{A}\\mathbf{x}$, implemented via `nn.Linear(100, 45, bias=False)` and we want to compute the *Lipschitz* constant of this linear map. \n",
    "\n",
    "**Definition**: A function $f: \\mathbb{R}^n \\to \\mathbb{R}^m$ is called Lipschitz continuous if there exists a constant $L \\geq 0$ such that \n",
    "\n",
    "$$\\forall \\mathbf{x},\\mathbf{y} \\in \\mathbb{R}^n: \\| f(\\mathbf{x}) - f(\\mathbf{y})\\|_2 \\leq L \\| \\mathbf{x}-\\mathbf{y} \\|_2$$\n",
    "\n",
    "For a linear map (as above), the Lipschitz constant is given by the largest *singular value* of $\\mathbf{A}$.\n",
    "\n",
    "For this exercise, (1) initialize a linear layer with `nn.Linear(100, 45, bias=False)` and then (2) compute the Lipschitz constant (look into `torch.linalg` for help). Subsequently, write a function that takes, as arguments, a linear layer (i.e., a variable of type `nn.Linear`), a desired Lipschitz constant $L' \\geq 0$ and reconfigures the weight matrix such that this Lipschitz constant is satisfied."
   ]
  },
  {
   "cell_type": "code",
   "execution_count": 73,
   "id": "cd6735bd",
   "metadata": {},
   "outputs": [
    {
     "name": "stdout",
     "output_type": "stream",
     "text": [
      "L(f): 0.937\n"
     ]
    }
   ],
   "source": [
    "torch.manual_seed(1234)\n",
    "# (1) initialize the linear layer in the configurations specified above\n",
    "ll = nn.Linear(100, 45, bias=False)\n",
    "\n",
    "# (2) compute Lipschitz constant (L)\n",
    "U, S, Vh = torch.linalg.svd(ll.weight)\n",
    "L = torch.max(S)\n",
    "\n",
    "print('L(f): {:.3f}'.format(L))"
   ]
  },
  {
   "cell_type": "code",
   "execution_count": 104,
   "id": "c0b126b6",
   "metadata": {},
   "outputs": [
    {
     "name": "stdout",
     "output_type": "stream",
     "text": [
      "Target Lipschitz-constant is 0.894\n",
      "Current Lipschitz-constant 0.937 is too large.\n",
      "Target Lipschitz-constant is 0.894\n",
      "The weight matrix already satisfies the Lipschitz-constant.\n"
     ]
    }
   ],
   "source": [
    "accuracy = 4\n",
    "def constrain(f: nn.Linear, L:float):\n",
    "    assert L >= 0\n",
    "    L = np.round(L, accuracy)\n",
    "    print(\"Target Lipschitz-constant is {:.3f}\".format(L))\n",
    "\n",
    "    U, S, Vh = torch.linalg.svd(f.weight)\n",
    "    L_cur = torch.round(torch.max(S) * 10**accuracy) / (10**accuracy)\n",
    "\n",
    "    if L == L_cur:\n",
    "        print(\"The weight matrix already satisfies the Lipschitz-constant.\")\n",
    "        return\n",
    "    \n",
    "    elif L < L_cur:\n",
    "        print(\"Current Lipschitz-constant {:.3f} is too large.\".format(L_cur))\n",
    "        ind = (S > L).nonzero(as_tuple=False)\n",
    "        new_vals = [L]\n",
    "        for _ in range(len(ind) - 1):\n",
    "            new_vals.append(random.uniform((L - L*0.5), (L - L*0.01)))\n",
    "        random.shuffle(new_vals)\n",
    "        \n",
    "        for i, val in enumerate(ind):\n",
    "            S[val] = new_vals[i]\n",
    "    \n",
    "    else:\n",
    "        print(\"Current Lipschitz-constant {:.3f} is too small.\".format(L_cur))\n",
    "        _, ind = torch.topk(S, 1)\n",
    "        S[ind] = L\n",
    "\n",
    "    # Reconstruct the weight matrix\n",
    "    S_new = torch.zeros((f.weight.shape[0], f.weight.shape[1]))\n",
    "    S_new[:f.weight.shape[0], :f.weight.shape[0]] = torch.diag(S)\n",
    "    f.weight = torch.nn.Parameter(torch.matmul(U, torch.matmul(S_new, Vh)))\n",
    "\n",
    "torch.manual_seed(1234)\n",
    "f = nn.Linear(100, 45, bias=False)\n",
    "L = random.random()\n",
    "constrain(f, L)\n",
    "# Test\n",
    "constrain(f, L)"
   ]
  },
  {
   "cell_type": "markdown",
   "id": "ad72d073",
   "metadata": {},
   "source": [
    "## ExD.3 (6 points)"
   ]
  },
  {
   "cell_type": "markdown",
   "id": "e3db254c",
   "metadata": {},
   "source": [
    "Say you have a grayscale image of size $W \\times H$, i.e., one ``color'' channel. This image can be stored as a $1 \\times W \\times H$ tensor. In case you have multiple ($B$) such images, you could store them as a $B \\times 1 \\times W \\times H$ tensor."
   ]
  },
  {
   "cell_type": "code",
   "execution_count": 33,
   "id": "df04c2a3",
   "metadata": {},
   "outputs": [],
   "source": [
    "# e.g., 6 (random) images of size 32x32\n",
    "torch.manual_seed(1234)\n",
    "img = torch.randn(6,1,32,32)"
   ]
  },
  {
   "cell_type": "markdown",
   "id": "86557fc3",
   "metadata": {},
   "source": [
    "The idea of this exercise is, to first split the image into $P \\times P$ patches (e.g., $8 \\times 8$), then vectorize each patch and forward each vectorized patch through a simple MLP, implementing\n",
    "\n",
    "$$f: \\mathbf{x} \\mapsto \\mathbf{B}\\text{ReLU}(\\mathbf{A}\\mathbf{x})$$\n",
    "\n",
    "where $\\mathbf{A} \\in \\mathbb{R}^{P^2 \\times P^2}$ and $\\mathbf{B} \\in \\mathbb{R}^{P^2 \\times 128}$. \n",
    "\n",
    "**Evaluation**: use the `img` tensor from above as input, and take $P=8$. The output should then be a tensor of size $6 \\times 16 \\times 128$.\n",
    "\n",
    "\n"
   ]
  },
  {
   "cell_type": "code",
   "execution_count": 48,
   "id": "2ff7379d",
   "metadata": {},
   "outputs": [],
   "source": [
    "# imports that require einops\n",
    "from einops import rearrange, repeat\n",
    "from einops.layers.torch import Rearrange\n",
    "import torch.nn.functional as F\n",
    "from sympy import symbols, solve, Eq"
   ]
  },
  {
   "cell_type": "code",
   "execution_count": 105,
   "id": "fae7b986",
   "metadata": {},
   "outputs": [],
   "source": [
    "patch_H, patch_W = 8, 8\n",
    "patch_D = patch_W * patch_H\n",
    "embedding_dim = 128\n",
    "\n",
    "mapping = nn.Sequential(\n",
    "            Rearrange('b c (h p1) (w p2) -> b (h w) (p1 p2 c)', \n",
    "                       p1 = patch_H, \n",
    "                       p2 = patch_W),\n",
    "            nn.Linear(patch_D, patch_D, bias=False),\n",
    "            nn.ReLU(),\n",
    "            nn.Linear(patch_D, embedding_dim, bias=False)\n",
    "        )"
   ]
  },
  {
   "cell_type": "code",
   "execution_count": 106,
   "id": "1fb0aef3",
   "metadata": {},
   "outputs": [
    {
     "data": {
      "text/plain": [
       "12288"
      ]
     },
     "execution_count": 106,
     "metadata": {},
     "output_type": "execute_result"
    }
   ],
   "source": [
    "import numpy as np\n",
    "np.sum([p.numel() for p in mapping.parameters()])"
   ]
  },
  {
   "cell_type": "code",
   "execution_count": 107,
   "id": "cd293980",
   "metadata": {},
   "outputs": [
    {
     "name": "stdout",
     "output_type": "stream",
     "text": [
      "torch.Size([6, 1, 32, 32])\n",
      "torch.Size([6, 16, 64])\n"
     ]
    }
   ],
   "source": [
    "# test with\n",
    "print(img.size())\n",
    "out_1 = mapping(img)\n",
    "print(out.size())"
   ]
  },
  {
   "cell_type": "code",
   "execution_count": 111,
   "id": "9b4bd5a3",
   "metadata": {},
   "outputs": [],
   "source": [
    "# Below is a template class that you can use \n",
    "\n",
    "class MyOp(nn.Module):\n",
    "    def __init__(self, patch_W=8, patch_H=8, embedding_dim=128):\n",
    "        super().__init__()\n",
    "        \n",
    "        assert patch_W == patch_H\n",
    "        \n",
    "        self.patch_W = patch_W\n",
    "        self.patch_H = patch_H\n",
    "        self.embedding_dim = embedding_dim\n",
    "        self.patch_D = patch_H * patch_W\n",
    "        \n",
    "        # self.layers = nn.Sequential(\n",
    "        #     nn.Conv2d(1, self.patch_H * 2, kernel_size=25, bias=False),\n",
    "        #     nn.Flatten(2,-1),\n",
    "        #     nn.Linear(self.patch_D, self.patch_D, bias=False),\n",
    "        #     nn.ReLU(),\n",
    "        #     nn.Linear(patch_D, self.embedding_dim, bias=False)\n",
    "        # )\n",
    "        self.l1 = nn.Conv2d(1, self.patch_H * 2, kernel_size=25, bias=False)\n",
    "        self.l2 = nn.Flatten(2,-1)\n",
    "        self.l3 = nn.Linear(self.patch_D, self.patch_D, bias=False)\n",
    "        self.l4 = nn.ReLU()\n",
    "        self.l5 = nn.Linear(patch_D, self.embedding_dim, bias=False)\n",
    "    \n",
    "    def forward(self, x_0):\n",
    "        c = self.calculate_channel_amnt(x_0)\n",
    "        K, S = self.calculate_kernel_stride_size(x_0)\n",
    "        self.l1 = nn.Conv2d(in_channels=1, out_channels=c, kernel_size=K, stride=S, bias=False)\n",
    "\n",
    "        print(\"Before the network:\", x_0.size())\n",
    "        x_1 = self.l1(x_0)\n",
    "        print(\"After Conv2d:\", x_1.size())\n",
    "        x_2 = self.l2(x_1)\n",
    "        print(\"After Flatten:\", x_2.size())\n",
    "        x_3 = self.l3(x_2)\n",
    "        print(\"After 1st Linear:\", x_3.size())\n",
    "        x_4 = self.l4(x_3)\n",
    "        print(\"After ReLU:\", x_4.size())\n",
    "        x_5 = self.l5(x_4)\n",
    "        print(\"After final layer (Linear):\", x_5.size())\n",
    "        return x_5\n",
    "    \n",
    "    def calculate_channel_amnt(self, x: torch.Tensor):\n",
    "        H = x.shape[-2]\n",
    "        W = x.shape[-1]\n",
    "        \n",
    "        # w * self.patch_W = W\n",
    "        # h * self.patch_H = H\n",
    "        # c = h * w => \n",
    "        return int((H / self.patch_H) * (W / self.patch_W))\n",
    "    \n",
    "    def calculate_kernel_stride_size(self, x: torch.Tensor):\n",
    "        # out_size = P x P = self.patch_W x self.patch_H\n",
    "        H_in = x.shape[-2]\n",
    "        W_in = x.shape[-1]\n",
    "        # K = kernel_size, S = stride_length\n",
    "        # self.patch_H = (H_in - 1 * (K - 1) - 1) / (S) + 1\n",
    "        # self.patch_W = (W_in - 1 * (K - 1) - 1) / (S) + 1\n",
    "        K, S = symbols('K, S')\n",
    "        eq1 = Eq((H_in - 1 * (K - 1) - 1) / (S) + 1, self.patch_H)\n",
    "        eq2 = Eq((W_in - 1 * (K - 1) - 1) / (S) + 1, self.patch_W)\n",
    "        results = solve((eq1, eq2), (K,S))\n",
    "\n",
    "        if len(results) == 1:  # K is expressed with S\n",
    "            S = 1\n",
    "            K = eval(str(results[K]).replace('S', str(S)))\n",
    "            return K, S\n",
    "        else:\n",
    "            return results.get(K), results.get(S)\n"
   ]
  },
  {
   "cell_type": "code",
   "execution_count": 112,
   "id": "51934fb8",
   "metadata": {},
   "outputs": [
    {
     "name": "stdout",
     "output_type": "stream",
     "text": [
      "Image-tensor size: torch.Size([6, 1, 32, 32])\n",
      "Before the network: torch.Size([6, 1, 32, 32])\n",
      "After Conv2d: torch.Size([6, 16, 8, 8])\n",
      "After Flatten: torch.Size([6, 16, 64])\n",
      "After 1st Linear: torch.Size([6, 16, 64])\n",
      "After ReLU: torch.Size([6, 16, 64])\n",
      "After final layer (Linear): torch.Size([6, 16, 128])\n",
      "Are sizes after two networks the same? True\n"
     ]
    }
   ],
   "source": [
    "# test with\n",
    "print(\"Image-tensor size:\", img.size())\n",
    "obj = MyOp(8,8,128)\n",
    "out_2 = obj(img)\n",
    "print(\"Are sizes after two networks the same?\", out_2.size() == out_1.size())"
   ]
  }
 ],
 "metadata": {
  "kernelspec": {
   "display_name": "Python 3 (ipykernel)",
   "language": "python",
   "name": "python3"
  },
  "language_info": {
   "codemirror_mode": {
    "name": "ipython",
    "version": 3
   },
   "file_extension": ".py",
   "mimetype": "text/x-python",
   "name": "python",
   "nbconvert_exporter": "python",
   "pygments_lexer": "ipython3",
   "version": "3.8.8"
  }
 },
 "nbformat": 4,
 "nbformat_minor": 5
}
