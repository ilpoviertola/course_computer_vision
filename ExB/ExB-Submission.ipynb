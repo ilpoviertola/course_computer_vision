{
 "cells": [
  {
   "cell_type": "markdown",
   "metadata": {},
   "source": [
    "# Computer Vision PS (WS21/22)\n",
    "\n",
    "## Exercise sheet B (ExB)\n",
    "\n",
    "**Group members**: *please list all group members here*\n",
    "\n",
    "**Total (possible) points**: 10\n",
    "\n",
    "---"
   ]
  },
  {
   "cell_type": "code",
   "execution_count": 2,
   "metadata": {},
   "outputs": [],
   "source": [
    "%load_ext autoreload\n",
    "%autoreload 2\n",
    "\n",
    "%matplotlib inline\n",
    "import matplotlib.pyplot as plt\n",
    "\n",
    "import numpy as np"
   ]
  },
  {
   "cell_type": "code",
   "execution_count": 3,
   "metadata": {},
   "outputs": [],
   "source": [
    "# Load training/testing data with labels\n",
    "import os\n",
    "path_to_files = \"/Users/ilpoviertola/Repositories/computer-vision/teaching/WS2122/CV/PS/ExB\"\n",
    "\n",
    "X_trn = np.load(os.path.join(path_to_files, 'X_trn.npy'))\n",
    "y_trn = np.load(os.path.join(path_to_files, 'y_trn.npy'))\n",
    "X_tst = np.load(os.path.join(path_to_files, 'X_tst.npy'))\n",
    "y_tst = np.load(os.path.join(path_to_files, 'y_tst.npy'))"
   ]
  },
  {
   "cell_type": "markdown",
   "metadata": {},
   "source": [
    "In this example, our labels are `+1` and `-1` (in the lecture for the perceptron, we has `0` and `1`)."
   ]
  },
  {
   "cell_type": "code",
   "execution_count": 4,
   "metadata": {},
   "outputs": [
    {
     "name": "stdout",
     "output_type": "stream",
     "text": [
      "[-1  1]\n",
      "[-1  1]\n"
     ]
    }
   ],
   "source": [
    "print(np.unique(y_trn))\n",
    "print(np.unique(y_tst))"
   ]
  },
  {
   "cell_type": "markdown",
   "metadata": {},
   "source": [
    "Plot the data ..."
   ]
  },
  {
   "cell_type": "code",
   "execution_count": 5,
   "metadata": {},
   "outputs": [
    {
     "data": {
      "image/png": "[encoded data removed]",
      "text/plain": [
       "<Figure size 432x288 with 2 Axes>"
      ]
     },
     "metadata": {
      "needs_background": "light"
     },
     "output_type": "display_data"
    }
   ],
   "source": [
    "fig, (ax1,ax2) = plt.subplots(1,2)\n",
    "ax1.plot(X_trn[y_trn==-1,0], X_trn[y_trn==-1,1],'.', color='tab:blue')\n",
    "ax1.plot(X_trn[y_trn==+1,0], X_trn[y_trn==+1,1],'.', color='tab:red')\n",
    "ax1.set_title('Training');\n",
    "\n",
    "ax2.plot(X_tst[y_tst==-1,0], X_tst[y_tst==-1,1],'.', color='tab:blue')\n",
    "ax2.plot(X_tst[y_tst==+1,0], X_tst[y_tst==+1,1],'.', color='tab:red')\n",
    "ax2.set_title('Testing');"
   ]
  },
  {
   "cell_type": "markdown",
   "metadata": {},
   "source": [
    "## ExB.1 (7 points)\n",
    "\n",
    "Below is pseudocode for the standard perceptron algorithm, formulated slighly different from the lecture,  for labels in $\\{+1,-1\\}$.\n",
    "\n",
    "```\n",
    "w = [0,0]\n",
    "b = 0\n",
    "repeat N times\n",
    "    for (x_i,y_i) in training set\n",
    "        score = <w,x_i> + b\n",
    "        if y_i * score <= 0\n",
    "            w = w + y_i * x_i\n",
    "            b = b + y_i\n",
    "return w\n",
    "```\n",
    "\n",
    "Here `w = [0,0]` denotes $\\mathbf{w} = (0,0)^\\top$, `b=0` is the **bias** term $b$ (which we subsumbed in the lecture into $\\mathbf{w}$). Also, `<w,x_i>` denotes the inner product between $\\mathbf{w}$ and $\\mathbf{x}_i$, i.e., $\\langle \\mathbf{w},\\mathbf{x}_i\\rangle$.\n",
    "\n",
    "The *problem* with this classic variant of the perceptron is that we return the *last* weight vector, i.e., the most recent version. In fact, one could think of each update step as producing a new weight vector (and bias), i.e., a new classifier if you will. At each update, the classifier represents a version specifically tuned to the *last seen sample where an error was made*. The key idea of the **averaged perceptron** is not to return the most recent weight and bias, but to average them across all update steps. Empirically, this typically performs better.\n",
    "\n",
    "A naive incarnation of this **averaged perceptron** algorithm can be written as:\n",
    "\n",
    "```\n",
    "w^{(0)} = [0,0]\n",
    "b^{(0)} = 0\n",
    "t = 0\n",
    "repeat N times\n",
    "    for (x_i,y_i) in training set\n",
    "        score = <w^{(t)},x_i> + b\n",
    "        if y_i * score <= 0\n",
    "            w^{(t+1)} = w^{(t)} + y_i * x_i\n",
    "            b^{(t+1)} = b^{(t)} + y_i\n",
    "        else\n",
    "            w^{(t+1)} = w^{(t+1)}\n",
    "            b^{(t+1)} = b^{(t+1)}\n",
    "        t = t + 1\n",
    "    \n",
    "    return average(w^{(1)},w^{(2)},...,w^{(k)}), average(b^{(1)},b^{(2)},...,b^{(k)})\n",
    "```\n",
    "\n",
    "Here, `w^{(t)}` denotes the weight vector at update step $t$, i.e., $\\mathbf{w}^{(t)}$. Given a training set of size $T$ (i.e., $T$ training tuple of the form $(\\mathbf{x}_i,y_i)$, and $N>0$ iterations, we eventually compute and return the average over $k=N\\cdot T$ weight vectors and bias scalars. Specifically, we have, as our result, \n",
    "\n",
    "$$ \\mathbf{w} = \\frac{1}{N\\cdot T} \\sum_k \\mathbf{w}^{(k)}, \\quad \\text{and} \\quad \n",
    "\\frac{1}{N\\cdot T} \\sum_k b^{(k)}\\enspace.$$\n",
    "\n",
    "Your task is to implement *both* the (1) **original perceptron** and the (2) **averaged perceptron** in a few lines of Python code. *Do not implement your solution as a class as we did in the lecture, unless you really want to*. Finally, assess the training/testing accuracy of both approaches.\n",
    "\n",
    "In terms of points, there are 3 points for the original perceptron and 4 points for the averaged variant.\n",
    "\n",
    "**Note**: stripped down to the bare minimum, this requires not more than 10-15 lines of code. When experimenting, set $N=1000$ for instance."
   ]
  },
  {
   "cell_type": "markdown",
   "metadata": {},
   "source": [
    "### Part I: Classic perceptron\n",
    "\n",
    "In the perceptron implementation use $\\langle \\mathbf{w},\\mathbf{x}\\rangle + b$, i.e., the variant with explicit bias $b$ (as in the pseudocode). The decision rule then is\n",
    "\n",
    "$$\n",
    "\\hat{y} = \\text{sign}(\\langle \\mathbf{w},\\mathbf{x}\\rangle + b)\n",
    "$$\n",
    "as we have labels in $\\{-1,+1\\}$."
   ]
  },
  {
   "cell_type": "code",
   "execution_count": 6,
   "metadata": {},
   "outputs": [],
   "source": [
    "def std_ppn(N, X_trn, y_trn):\n",
    "    w = np.zeros((2,)).astype(np.float32) # Initial weight \n",
    "    b = 0                                 # Initial bias\n",
    "\n",
    "    for _ in range(N):\n",
    "        for i in range(X_trn.shape[0]):\n",
    "            score = np.sign(np.dot(w, X_trn[i].reshape(2, 1)) + b)\n",
    "            if y_trn[i] * score <= 0:\n",
    "                w = w + y_trn[i] * X_trn[i]\n",
    "                b = b + y_trn[i]\n",
    "\n",
    "    return w, b\n"
   ]
  },
  {
   "cell_type": "markdown",
   "metadata": {},
   "source": [
    "### Part II: Averaged perceptron"
   ]
  },
  {
   "cell_type": "code",
   "execution_count": 7,
   "metadata": {},
   "outputs": [],
   "source": [
    "def avg_ppn(N, X_trn, y_trn):\n",
    "    w = [np.zeros((2,)).astype(np.float32)] * (X_trn.shape[0] * N + 1)    # Initial weight \n",
    "    b = [0] * (X_trn.shape[0] * N + 1)                                    # Initial bias\n",
    "    t = 0\n",
    "\n",
    "    for _ in range(N):\n",
    "        for i in range(X_trn.shape[0]):\n",
    "            score = np.sign(np.dot(w[t], X_trn[i]) + b[t])\n",
    "            if y_trn[i] * score <= 0:\n",
    "                w[t+1] = w[t] + y_trn[i] * X_trn[i]\n",
    "                b[t+1] = b[t] + y_trn[i]\n",
    "            else:\n",
    "                w[t+1] = w[t]\n",
    "                b[t+1] = b[t]\n",
    "            t = t + 1\n",
    "    \n",
    "    return np.average(w, axis=0), np.average(b)"
   ]
  },
  {
   "cell_type": "markdown",
   "metadata": {},
   "source": [
    "### Part III: Evaluation on training/testing data"
   ]
  },
  {
   "cell_type": "code",
   "execution_count": 8,
   "metadata": {},
   "outputs": [
    {
     "name": "stdout",
     "output_type": "stream",
     "text": [
      "Weights and bias term of classic perceptron model:\n",
      "[9.28379946 2.10318587] -8\n",
      "Weights and bias term of averaging perceptron model:\n",
      "[9.17972241 3.02520916] -7.270653276381766\n",
      "Accuracy of the classic perceptron model:\n",
      "For training data: 0.9 For test data: 0.8\n",
      "Accuracy of averaging perceptron model:\n",
      "For training data: 0.9714285714285714 For test data: 0.9333333333333333\n"
     ]
    }
   ],
   "source": [
    "def evaluate(X, y, w, b):\n",
    "    X = np.hstack((X, np.ones((X.shape[0], 1))))\n",
    "    w = np.hstack((w, b))\n",
    "    pred = np.sign(np.dot(X, w)).reshape(-1)\n",
    "    acc = np.sum(pred == y) / y.shape[0]\n",
    "    return acc\n",
    "\n",
    "N = 1000    # ephocs\n",
    "\n",
    "# Train classifiers\n",
    "w_std, b_std = std_ppn(N, X_trn, y_trn)\n",
    "w_avg, b_avg = avg_ppn(N, X_trn, y_trn)\n",
    "print(\"Weights and bias term of classic perceptron model:\")\n",
    "print(w_std, b_std)\n",
    "print(\"Weights and bias term of averaging perceptron model:\")\n",
    "print(w_avg, b_avg)\n",
    "\n",
    "# Standard perceptron model evaluation\n",
    "acc_std_trn = evaluate(X_trn, y_trn, w_std, b_std)\n",
    "acc_std_tst = evaluate(X_tst, y_tst, w_std, b_std)\n",
    "print(\"Accuracy of the classic perceptron model:\")\n",
    "print(\"For training data:\", acc_std_trn, \"For test data:\", acc_std_tst)\n",
    "\n",
    "# Average perceptron model evaluation\n",
    "acc_avg_trn = evaluate(X_trn, y_trn, w_avg, b_avg)\n",
    "acc_avg_tst = evaluate(X_tst, y_tst, w_avg, b_avg)\n",
    "print(\"Accuracy of averaging perceptron model:\")\n",
    "print(\"For training data:\", acc_avg_trn, \"For test data:\", acc_avg_tst)\n"
   ]
  },
  {
   "cell_type": "markdown",
   "metadata": {},
   "source": [
    "## ExB.2 (3 points)\n",
    "\n",
    "Modify the code of the **averaged perceptron** to make it more efficient, i.e., so that you do not have to store **all** weight vectors from **all** $N \\cdot T$ updates.\n",
    "\n",
    "**Hint**: Just think about how the update is actually computed, e.g., take $\\mathbf{w}^{(4)}$:\n",
    "\n",
    "0. $\\mathbf{w}^{(0)} = (0,0)^\\top$\n",
    "1. $\\mathbf{w}^{(1)} = \\mathbf{w}^{(0)} + \\boldsymbol{\\theta}_1 = \\boldsymbol{\\theta}_1 $\n",
    "2. $\\mathbf{w}^{(2)} = \\mathbf{w}^{(1)} + \\boldsymbol{\\theta}_2 = \\boldsymbol{\\theta}_1 + \\boldsymbol{\\theta}_2$\n",
    "3. $\\mathbf{w}^{(3)} = \\mathbf{w}^{(2)} + \\boldsymbol{\\theta}_3 = \\boldsymbol{\\theta}_1 + \\boldsymbol{\\theta}_2 + \\boldsymbol{\\theta}_3$\n",
    "4. $\\mathbf{w}^{(4)} = \\mathbf{w}^{(2)} + \\boldsymbol{\\theta}_4 = \\boldsymbol{\\theta}_1 + \\boldsymbol{\\theta}_2 + \\boldsymbol{\\theta}_3 + \\boldsymbol{\\theta}_4$\n",
    "\n",
    "So, \n",
    "\n",
    "$$ \\frac{\\mathbf{w}^{(1)}+\\mathbf{w}^{(2)}+\\mathbf{w}^{(3)}+\\mathbf{w}^{(4)}}{4}$$\n",
    "can be written as\n",
    "$$ \\frac{4}{4}\\boldsymbol{\\theta}_1 + \\frac{3}{4}\\boldsymbol{\\theta}_2 + \\frac{2}{4}\\boldsymbol{\\theta}_3 + \\frac{1}{4}\\boldsymbol{\\theta}_4$$\n",
    "\n",
    "Essentially, you just need to translate this into code."
   ]
  },
  {
   "cell_type": "code",
   "execution_count": 10,
   "metadata": {},
   "outputs": [
    {
     "name": "stdout",
     "output_type": "stream",
     "text": [
      "[ 9.1748879   3.0166491  -7.27911268]\n"
     ]
    }
   ],
   "source": [
    "def avg_ppn_mod(N, X_trn, y_trn):\n",
    "    # Weight acerages for every epoch\n",
    "    w_avg = []\n",
    "    w = [np.zeros((3,), dtype=np.float32)]\n",
    "    X_trn = np.hstack((X_trn, np.ones((X_trn.shape[0], 1))))\n",
    "\n",
    "    for _ in range(N):\n",
    "        t = 0\n",
    "        w = [w[-1]] * (1 + X_trn.shape[0])\n",
    "        for i in range(X_trn.shape[0]):\n",
    "            score = np.sign(np.dot(w[t], X_trn[i]))\n",
    "            if y_trn[i] * score <= 0:\n",
    "                w[t+1] = w[t] + y_trn[i] * X_trn[i]\n",
    "            else:\n",
    "                w[t+1] = w[t]\n",
    "            t = t + 1\n",
    "        \n",
    "        w_avg.append(np.average(w, axis=0))\n",
    "    \n",
    "    return np.average(w_avg, axis=0)\n",
    "\n",
    "w = avg_ppn_mod(N, X_trn, y_trn)\n",
    "\n",
    "print(w)"
   ]
  }
 ],
 "metadata": {
  "interpreter": {
   "hash": "4fdc2f73bf5d480b4cf34a598d9b45a8492d840372cfa5913d0a708f31ebf008"
  },
  "kernelspec": {
   "display_name": "Python 3.8.8 64-bit ('computer_vision': conda)",
   "name": "python3"
  },
  "language_info": {
   "codemirror_mode": {
    "name": "ipython",
    "version": 3
   },
   "file_extension": ".py",
   "mimetype": "text/x-python",
   "name": "python",
   "nbconvert_exporter": "python",
   "pygments_lexer": "ipython3",
   "version": "3.8.8"
  }
 },
 "nbformat": 4,
 "nbformat_minor": 2
}
